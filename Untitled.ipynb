{
 "cells": [
  {
   "cell_type": "code",
   "execution_count": 2,
   "id": "21310bd3-aaec-434a-a159-8a07fc892af6",
   "metadata": {},
   "outputs": [
    {
     "name": "stdout",
     "output_type": "stream",
     "text": [
      "dosen't\n"
     ]
    }
   ],
   "source": [
    "a=('dosen\\'t')\n",
    "print(a)"
   ]
  },
  {
   "cell_type": "code",
   "execution_count": 3,
   "id": "89a511b1-c6cc-44eb-a66e-e168c9e75b4c",
   "metadata": {},
   "outputs": [
    {
     "name": "stdout",
     "output_type": "stream",
     "text": [
      "fst line\n",
      " scnd line\n"
     ]
    }
   ],
   "source": [
    "a=('fst line\\n scnd line')\n",
    "print(a)"
   ]
  },
  {
   "cell_type": "code",
   "execution_count": 4,
   "id": "1c5ba779-7d3d-41f1-a6c8-2357cbdd3dcd",
   "metadata": {},
   "outputs": [
    {
     "name": "stdout",
     "output_type": "stream",
     "text": [
      "hi,goodmng\n",
      "      I'am Arathi\n",
      "      hii\n",
      "      hi\n"
     ]
    }
   ],
   "source": [
    "print('''hi,goodmng\n",
    "      I'am Arathi\n",
    "      hii\n",
    "      hi''')"
   ]
  },
  {
   "cell_type": "code",
   "execution_count": 5,
   "id": "2814bd91-7b10-4030-9a56-b83e1fc619fb",
   "metadata": {},
   "outputs": [
    {
     "name": "stdin",
     "output_type": "stream",
     "text": [
      "enter a number 5\n",
      "enter secnd number 5\n"
     ]
    },
    {
     "name": "stdout",
     "output_type": "stream",
     "text": [
      "10\n"
     ]
    }
   ],
   "source": [
    "a=int(input('enter a number'))\n",
    "b=int(input('enter secnd number'))\n",
    "print(a+b)\n",
    "            "
   ]
  },
  {
   "cell_type": "code",
   "execution_count": 14,
   "id": "c83dbe8b-638f-4bd0-8d23-7f9c03ef155f",
   "metadata": {},
   "outputs": [
    {
     "data": {
      "text/plain": [
       "'sh'"
      ]
     },
     "execution_count": 14,
     "metadata": {},
     "output_type": "execute_result"
    }
   ],
   "source": [
    "a='shashant'\n",
    "len(a)\n",
    "a[-2] #from last\n",
    "a[0] #from fst\n",
    "#slicing\n",
    "a[:2]"
   ]
  },
  {
   "cell_type": "code",
   "execution_count": 13,
   "id": "11824462-bc8a-45d4-b2e4-1b09f12c5b25",
   "metadata": {},
   "outputs": [
    {
     "name": "stdout",
     "output_type": "stream",
     "text": [
      "st\n"
     ]
    }
   ],
   "source": [
    "print(a[0]+a[-1]) #isthamulath vertham"
   ]
  },
  {
   "cell_type": "code",
   "execution_count": 15,
   "id": "2b81b352-69ce-4136-9cf0-1c0b8d323d76",
   "metadata": {},
   "outputs": [
    {
     "data": {
      "text/plain": [
       "'ssn'"
      ]
     },
     "execution_count": 15,
     "metadata": {},
     "output_type": "execute_result"
    }
   ],
   "source": [
    "a='sasant' #stepsize\n",
    "a[0:5:2]"
   ]
  },
  {
   "cell_type": "code",
   "execution_count": 18,
   "id": "1d81f1e1-3bf2-46da-9d32-9ddab8e65d47",
   "metadata": {},
   "outputs": [
    {
     "data": {
      "text/plain": [
       "'tn'"
      ]
     },
     "execution_count": 18,
     "metadata": {},
     "output_type": "execute_result"
    }
   ],
   "source": [
    "a='sasnt' #stepsizefromback\n",
    "a[4:2:-1]"
   ]
  },
  {
   "cell_type": "code",
   "execution_count": 19,
   "id": "f8ec9a1c-754c-442e-8e16-9a0a30985499",
   "metadata": {},
   "outputs": [
    {
     "data": {
      "text/plain": [
       "'htnahsas'"
      ]
     },
     "execution_count": 19,
     "metadata": {},
     "output_type": "execute_result"
    }
   ],
   "source": [
    "a='sashanth' #reverse\n",
    "a[::-1]"
   ]
  },
  {
   "cell_type": "code",
   "execution_count": 5,
   "id": "6c4faecc-d70e-4bb4-ad53-086dcd922a3b",
   "metadata": {},
   "outputs": [
    {
     "name": "stdout",
     "output_type": "stream",
     "text": [
      "my name is sasu and i am 20\n"
     ]
    }
   ],
   "source": [
    "name='sasu' #concarenation\n",
    "age=20\n",
    "print('my name is {} and i am {}'.format(name,age)) "
   ]
  },
  {
   "cell_type": "raw",
   "id": "f472c732-43f3-4dac-82fb-f2991a97cffc",
   "metadata": {},
   "source": []
  },
  {
   "cell_type": "code",
   "execution_count": 4,
   "id": "2975318f-3633-465c-a623-4550511785d6",
   "metadata": {},
   "outputs": [
    {
     "name": "stdout",
     "output_type": "stream",
     "text": [
      "my nam is (name) and i am(age)\n"
     ]
    }
   ],
   "source": [
    "name='sas'\n",
    "age=20\n",
    "\n",
    "print(f'my nam is (name) and i am(age)')"
   ]
  },
  {
   "cell_type": "code",
   "execution_count": 13,
   "id": "aa2548bc-ff45-4333-bd82-fc54848f77a0",
   "metadata": {},
   "outputs": [
    {
     "data": {
      "text/plain": [
       "str"
      ]
     },
     "execution_count": 13,
     "metadata": {},
     "output_type": "execute_result"
    }
   ],
   "source": [
    "a='3'\n",
    "b='4'\n",
    "type(a)\n",
    "\n",
    "#type casting\n"
   ]
  },
  {
   "cell_type": "code",
   "execution_count": 14,
   "id": "681619e3-23e6-49b2-8962-1231a402d24f",
   "metadata": {},
   "outputs": [
    {
     "data": {
      "text/plain": [
       "int"
      ]
     },
     "execution_count": 14,
     "metadata": {},
     "output_type": "execute_result"
    }
   ],
   "source": [
    "c=int(a)\n",
    "d=int(b)\n",
    "type(c)\n",
    "\n"
   ]
  },
  {
   "cell_type": "code",
   "execution_count": 18,
   "id": "ebeb179a-58f3-47cf-ac51-0c1ad9a8d848",
   "metadata": {},
   "outputs": [
    {
     "data": {
      "text/plain": [
       "float"
      ]
     },
     "execution_count": 18,
     "metadata": {},
     "output_type": "execute_result"
    }
   ],
   "source": [
    "e=float(c)\n",
    "type(e)\n",
    "\n"
   ]
  },
  {
   "cell_type": "code",
   "execution_count": 22,
   "id": "273b4a0a-906a-4d34-9709-a93467854bb8",
   "metadata": {},
   "outputs": [
    {
     "name": "stdout",
     "output_type": "stream",
     "text": [
      "<class 'int'>\n"
     ]
    },
    {
     "data": {
      "text/plain": [
       "['str', 5, 4, 3, 2, 1]"
      ]
     },
     "execution_count": 22,
     "metadata": {},
     "output_type": "execute_result"
    }
   ],
   "source": [
    "a=[1,2,3,4,5,'str']     #list\n",
    "print(type(a[0]))\n",
    "a[::-1]"
   ]
  },
  {
   "cell_type": "code",
   "execution_count": 32,
   "id": "8fc2704a-4120-4af8-baae-b729bb3f704a",
   "metadata": {},
   "outputs": [
    {
     "name": "stdout",
     "output_type": "stream",
     "text": [
      "[1, 2, 3, 4, 5, 6, 7, 'thru']\n"
     ]
    }
   ],
   "source": [
    "a=[1,2,3,4,5,6,7]\n",
    "a.append('thru')\n",
    "print(a)"
   ]
  },
  {
   "cell_type": "code",
   "execution_count": 27,
   "id": "a220d7c7-bbb3-44e4-9e4f-a1adfccec3ca",
   "metadata": {},
   "outputs": [
    {
     "name": "stdout",
     "output_type": "stream",
     "text": [
      "[1, 2, 3, 4, 5, 6, 7, 'twru', 'thru']\n"
     ]
    }
   ],
   "source": [
    "a.insert(7,'twru')\n",
    "print(a)"
   ]
  },
  {
   "cell_type": "code",
   "execution_count": 28,
   "id": "e0872e69-9d3c-4bf1-8bde-72554d54ccb8",
   "metadata": {},
   "outputs": [
    {
     "name": "stdout",
     "output_type": "stream",
     "text": [
      "[1, 2, 3]\n"
     ]
    }
   ],
   "source": [
    "k=[1,2]\n",
    "s=[3]\n",
    "k.extend(s)\n",
    "print(k)"
   ]
  },
  {
   "cell_type": "code",
   "execution_count": 43,
   "id": "b28e5153-1793-4eb9-a3b0-684dc5ca2203",
   "metadata": {},
   "outputs": [
    {
     "name": "stdout",
     "output_type": "stream",
     "text": [
      "[10, 4, 5, 6, 7, 'thru']\n"
     ]
    }
   ],
   "source": [
    "a[0]=10\n",
    "print(a)"
   ]
  },
  {
   "cell_type": "code",
   "execution_count": 44,
   "id": "e068088a-04b7-4224-80e9-570ffa9a0b95",
   "metadata": {},
   "outputs": [
    {
     "name": "stdout",
     "output_type": "stream",
     "text": [
      "[4, 5, 6, 7, 'thru']\n"
     ]
    }
   ],
   "source": [
    "# remove items\n",
    "a.remove(10)\n",
    "print(a)"
   ]
  },
  {
   "cell_type": "code",
   "execution_count": 47,
   "id": "0ce51675-e7eb-443c-a48f-904fe0de2ae8",
   "metadata": {
    "scrolled": true
   },
   "outputs": [
    {
     "name": "stdout",
     "output_type": "stream",
     "text": [
      "[4, 5, 6]\n"
     ]
    }
   ],
   "source": [
    "a.pop()\n",
    "print(a)"
   ]
  },
  {
   "cell_type": "code",
   "execution_count": 59,
   "id": "82ec9554-7967-4118-9050-2466b18e7e17",
   "metadata": {},
   "outputs": [
    {
     "name": "stdout",
     "output_type": "stream",
     "text": [
      "[]\n"
     ]
    }
   ],
   "source": [
    "a.clear()\n",
    "print(a)"
   ]
  },
  {
   "cell_type": "code",
   "execution_count": 69,
   "id": "a0d95d7a-eb5e-4bb3-a007-0cf1b180193d",
   "metadata": {},
   "outputs": [
    {
     "name": "stdout",
     "output_type": "stream",
     "text": [
      "[1, 3]\n"
     ]
    }
   ],
   "source": [
    "a=[1,2,3]\n",
    "del a[1]\n",
    "print(a)"
   ]
  },
  {
   "cell_type": "code",
   "execution_count": 64,
   "id": "9489c896-e17b-4998-b079-40c9954e6b7d",
   "metadata": {},
   "outputs": [
    {
     "name": "stdout",
     "output_type": "stream",
     "text": [
      "[35, 34, 33, 32, 31]\n"
     ]
    }
   ],
   "source": [
    "age=[32,31,33,34,35]\n",
    "age.sort(reverse=True)\n",
    "print(age)"
   ]
  },
  {
   "cell_type": "code",
   "execution_count": 74,
   "id": "bcb10732-b034-4a57-a01a-2dcf50dd1043",
   "metadata": {},
   "outputs": [
    {
     "name": "stdout",
     "output_type": "stream",
     "text": [
      "['A', 'a', 'a', 'b', 'B', 'C', 'e']\n"
     ]
    }
   ],
   "source": [
    "x=['C','e','b','B','A','a','a']\n",
    "x.sort(key=str.lower)\n",
    "print(x)"
   ]
  },
  {
   "cell_type": "code",
   "execution_count": 85,
   "id": "1c724e2c-e0c5-4e26-b197-b78765d30900",
   "metadata": {},
   "outputs": [
    {
     "name": "stdout",
     "output_type": "stream",
     "text": [
      "0\n"
     ]
    }
   ],
   "source": [
    "x=['e','w']\n",
    "print(x.index('e'))"
   ]
  },
  {
   "cell_type": "code",
   "execution_count": 86,
   "id": "b73fa1a4-c520-4da8-b7d3-87a88a0b8512",
   "metadata": {},
   "outputs": [
    {
     "name": "stdout",
     "output_type": "stream",
     "text": [
      "[5, 4, 3, 2, 1]\n"
     ]
    }
   ],
   "source": [
    "x=[1,2,3,4,5]\n",
    "x.sort(reverse=True)\n",
    "print(x)"
   ]
  },
  {
   "cell_type": "code",
   "execution_count": 87,
   "id": "681c9f43-70e7-42ad-8368-ecd150e999f2",
   "metadata": {},
   "outputs": [
    {
     "name": "stdout",
     "output_type": "stream",
     "text": [
      "[1, 2, 3, 4, 4]\n"
     ]
    }
   ],
   "source": [
    "x=[1,2,3,4,4]\n",
    "x.copy()\n",
    "print(x)"
   ]
  },
  {
   "cell_type": "code",
   "execution_count": 89,
   "id": "259f0e64-1e7c-4d9f-8366-8a0f4acd128c",
   "metadata": {},
   "outputs": [
    {
     "name": "stdout",
     "output_type": "stream",
     "text": [
      "[2, 3, 4, 5, 6, 7]\n"
     ]
    }
   ],
   "source": [
    "x=[1,2,3,4,5,6,7]\n",
    "x.pop(0)\n",
    "\n",
    "print(x)"
   ]
  },
  {
   "cell_type": "code",
   "execution_count": 92,
   "id": "f8e16001-aa90-48c5-9369-6cffe87f347f",
   "metadata": {},
   "outputs": [
    {
     "name": "stdout",
     "output_type": "stream",
     "text": [
      "[2, 3, 4, 7]\n"
     ]
    }
   ],
   "source": [
    "x.pop(3)\n",
    "print(x)\n"
   ]
  },
  {
   "cell_type": "code",
   "execution_count": 97,
   "id": "05607214-09d4-4df2-a25e-7d44a747123d",
   "metadata": {},
   "outputs": [
    {
     "name": "stdout",
     "output_type": "stream",
     "text": [
      "[1, 2, 1, 6]\n"
     ]
    }
   ],
   "source": [
    "x.pop(3)\n",
    "print(x)"
   ]
  },
  {
   "cell_type": "code",
   "execution_count": 98,
   "id": "9b7c3b6c-23d3-4243-9e5e-6c4870edf6f8",
   "metadata": {},
   "outputs": [
    {
     "name": "stdout",
     "output_type": "stream",
     "text": [
      "2\n"
     ]
    }
   ],
   "source": [
    "x=[1,2,3,4,5,6]\n",
    "\n",
    "print(x.index(3))"
   ]
  },
  {
   "cell_type": "code",
   "execution_count": 99,
   "id": "32c78d24-8082-4441-aaf8-aab608a60e37",
   "metadata": {},
   "outputs": [
    {
     "name": "stdout",
     "output_type": "stream",
     "text": [
      "[1, 2, 3, 4, 1, 2]\n"
     ]
    }
   ],
   "source": [
    "a=[1,2,3,4]\n",
    "b=[1,2]\n",
    "print(a+b)"
   ]
  },
  {
   "cell_type": "code",
   "execution_count": 106,
   "id": "c324b224-f19d-4ee9-b2fe-f027f6b1b256",
   "metadata": {},
   "outputs": [
    {
     "name": "stdout",
     "output_type": "stream",
     "text": [
      "False\n",
      "[1, 'hello', 4, 5, 6]\n"
     ]
    },
    {
     "data": {
      "text/plain": [
       "5"
      ]
     },
     "execution_count": 106,
     "metadata": {},
     "output_type": "execute_result"
    }
   ],
   "source": [
    "x=[1,'hello',4,5,6]\n",
    "print(x[0]==x[4])\n",
    "print(x)\n",
    "len(x)"
   ]
  },
  {
   "cell_type": "code",
   "execution_count": 109,
   "id": "30516886-4bab-4131-a8e2-f2b605312b42",
   "metadata": {},
   "outputs": [
    {
     "name": "stdout",
     "output_type": "stream",
     "text": [
      "<class 'int'>\n"
     ]
    }
   ],
   "source": [
    "x=[1,2,3,4,5,6]\n",
    "print(type(x[0]))"
   ]
  },
  {
   "cell_type": "code",
   "execution_count": 112,
   "id": "74906b9b-342d-4fcd-ba04-56bc46389d97",
   "metadata": {},
   "outputs": [
    {
     "name": "stdout",
     "output_type": "stream",
     "text": [
      "<class 'int'>\n"
     ]
    }
   ],
   "source": [
    "print(type(x[4]))"
   ]
  },
  {
   "cell_type": "code",
   "execution_count": 114,
   "id": "0d3dcbdd-e46f-4a28-8d3e-8d6b967b0a44",
   "metadata": {},
   "outputs": [
    {
     "data": {
      "text/plain": [
       "6"
      ]
     },
     "execution_count": 114,
     "metadata": {},
     "output_type": "execute_result"
    }
   ],
   "source": [
    "len(x)"
   ]
  },
  {
   "cell_type": "code",
   "execution_count": 119,
   "id": "c3a0cb25-9f64-4132-bfb8-3af0962240c3",
   "metadata": {},
   "outputs": [
    {
     "name": "stdout",
     "output_type": "stream",
     "text": [
      "[1, 2, 3, 4]\n"
     ]
    }
   ],
   "source": [
    "x=[1,2,3,4,5]\n",
    "x.remove(5)\n",
    "print(x)"
   ]
  },
  {
   "cell_type": "code",
   "execution_count": 122,
   "id": "133801a8-5334-43de-ae09-3afb793df753",
   "metadata": {},
   "outputs": [
    {
     "name": "stdout",
     "output_type": "stream",
     "text": [
      "[1, 10, 3, 4, 5]\n"
     ]
    }
   ],
   "source": [
    "x=[1,2,3,4,5]\n",
    "x[1]=(10)\n",
    "print(x)"
   ]
  },
  {
   "cell_type": "code",
   "execution_count": 1,
   "id": "f533ec39-5193-4dae-a35e-aa6101c06904",
   "metadata": {},
   "outputs": [
    {
     "name": "stdout",
     "output_type": "stream",
     "text": [
      "hyy\n"
     ]
    }
   ],
   "source": [
    "print(\"hyy\")\n"
   ]
  },
  {
   "cell_type": "code",
   "execution_count": 2,
   "id": "81fb12b5-c889-4ca3-aa23-367ff615b7e6",
   "metadata": {},
   "outputs": [
    {
     "name": "stdout",
     "output_type": "stream",
     "text": [
      "15\n"
     ]
    }
   ],
   "source": [
    "a=5\n",
    "b=10\n",
    "c=a+b\n",
    "print(c)"
   ]
  },
  {
   "cell_type": "code",
   "execution_count": 6,
   "id": "a414245a-8abb-46ab-a292-6cef409cdbe6",
   "metadata": {},
   "outputs": [
    {
     "name": "stdin",
     "output_type": "stream",
     "text": [
      "entr ur age 18\n"
     ]
    },
    {
     "name": "stdout",
     "output_type": "stream",
     "text": [
      "he/she is adult\n",
      "he/she is not adult\n"
     ]
    }
   ],
   "source": [
    "age=int(input('entr ur age'))\n",
    "if age >= 18:\n",
    "    print('he/she is adult')\n",
    "print('he/she is not adult')        "
   ]
  },
  {
   "cell_type": "code",
   "execution_count": 10,
   "id": "d98c0385-9939-4f59-8a0c-455093a2d812",
   "metadata": {},
   "outputs": [
    {
     "name": "stdin",
     "output_type": "stream",
     "text": [
      "entr ur age 2\n"
     ]
    },
    {
     "name": "stdout",
     "output_type": "stream",
     "text": [
      "he/she is not adult\n"
     ]
    }
   ],
   "source": [
    "age=int(input('entr ur age'))\n",
    "if age >= 18:\n",
    "    print('he/she is adult')\n",
    "else:\n",
    "    print('he/she is not adult')\n"
   ]
  },
  {
   "cell_type": "code",
   "execution_count": 15,
   "id": "4d237414-2f38-4101-9d8b-7a075bdf9895",
   "metadata": {},
   "outputs": [
    {
     "name": "stdin",
     "output_type": "stream",
     "text": [
      "enter a number 2\n"
     ]
    },
    {
     "name": "stdout",
     "output_type": "stream",
     "text": [
      "postiv\n"
     ]
    }
   ],
   "source": [
    "num =int(input('enter a number'))\n",
    "if num>0:\n",
    "    print('postiv')\n",
    "elif num==0:\n",
    "    print('zero')\n",
    "else:\n",
    "    print('neg')\n",
    "         \n",
    "         \n",
    "         "
   ]
  },
  {
   "cell_type": "code",
   "execution_count": 16,
   "id": "8ba093d8-dae7-4ced-91bf-2bba52a396cc",
   "metadata": {},
   "outputs": [
    {
     "name": "stdin",
     "output_type": "stream",
     "text": [
      "enter mark 3\n"
     ]
    },
    {
     "name": "stdout",
     "output_type": "stream",
     "text": [
      "fail\n"
     ]
    }
   ],
   "source": [
    "mark= int(input('enter mark'))\n",
    "if mark>=90:\n",
    "    print('grade A')\n",
    "elif mark>=80:\n",
    "    print('grade B')\n",
    "elif mark>=70:\n",
    "    print('grade C')\n",
    "else:\n",
    "    print('fail')"
   ]
  },
  {
   "cell_type": "code",
   "execution_count": 22,
   "id": "7efb21ca-263d-4acb-9998-c2a6b2209723",
   "metadata": {},
   "outputs": [
    {
     "name": "stdin",
     "output_type": "stream",
     "text": [
      "enter numbe 2\n"
     ]
    },
    {
     "name": "stdout",
     "output_type": "stream",
     "text": [
      " a not zzero\n",
      "a grtr zero\n"
     ]
    }
   ],
   "source": [
    "a=int(input('enter numbe'))\n",
    "if a!=0:\n",
    "      print(' a not zzero')\n",
    "      if a>0:\n",
    "          print('a grtr zero')\n",
    "      else:\n",
    "          print('less than zero')\n",
    "else:\n",
    "     print('a = 0')"
   ]
  },
  {
   "cell_type": "code",
   "execution_count": 23,
   "id": "6d9b6466-dd2a-450b-88d3-031eb8af6ce2",
   "metadata": {},
   "outputs": [],
   "source": [
    "x=10\n",
    "if x>5:\n",
    "    pass\n",
    "    "
   ]
  },
  {
   "cell_type": "code",
   "execution_count": 24,
   "id": "489589ed-a58d-4908-80e2-58337a0ed845",
   "metadata": {},
   "outputs": [
    {
     "name": "stdin",
     "output_type": "stream",
     "text": [
      "enetr age 18\n",
      "enter income 300\n"
     ]
    },
    {
     "name": "stdout",
     "output_type": "stream",
     "text": [
      "not elgbl\n"
     ]
    }
   ],
   "source": [
    "age= int(input('enetr age'))\n",
    "income= int(input('enter income'))\n",
    "if age>18 and income>3000:\n",
    "    print('elgbl 4 loan')\n",
    "else:\n",
    "    print('not elgbl')"
   ]
  },
  {
   "cell_type": "code",
   "execution_count": 2,
   "id": "42ec124a-8a49-47ad-8d04-a37f9ee613eb",
   "metadata": {},
   "outputs": [
    {
     "name": "stdin",
     "output_type": "stream",
     "text": [
      "enter a name malayalam\n"
     ]
    },
    {
     "name": "stdout",
     "output_type": "stream",
     "text": [
      "is palindrom\n"
     ]
    }
   ],
   "source": [
    "\n",
    "a=input('enter a name')\n",
    "b=a[::-1]\n",
    "if a==b:\n",
    "    print('is palindrom')\n",
    "else:\n",
    "    print('not palindrome')\n"
   ]
  },
  {
   "cell_type": "markdown",
   "id": "e43f11d9-6fc2-4560-876e-7407761d4759",
   "metadata": {},
   "source": [
    "num=int(input('enter a number '))\n",
    "if num >0:\n",
    "    print('postive')\n",
    "elif num==0:\n",
    "    print('0')\n",
    "else:\n",
    "    print('neg')"
   ]
  },
  {
   "cell_type": "code",
   "execution_count": 4,
   "id": "c883e43f-6327-46f8-940f-66c0257b13aa",
   "metadata": {},
   "outputs": [
    {
     "name": "stdin",
     "output_type": "stream",
     "text": [
      "enter num 1\n",
      "enter num 2\n",
      "enter num 3\n"
     ]
    },
    {
     "name": "stdout",
     "output_type": "stream",
     "text": [
      "3\n"
     ]
    }
   ],
   "source": [
    "a=int(input('enter num'))\n",
    "b=int(input('enter num'))\n",
    "c=int(input('enter num'))\n",
    "if a>b & a>c:\n",
    "    print(a)\n",
    "elif b>c & b>c:\n",
    "    print(b)\n",
    "else:\n",
    "    print(c)"
   ]
  },
  {
   "cell_type": "code",
   "execution_count": 5,
   "id": "14024280-c839-4b77-a275-863248552231",
   "metadata": {},
   "outputs": [
    {
     "name": "stdout",
     "output_type": "stream",
     "text": [
      "4\n"
     ]
    }
   ],
   "source": [
    "a=[1,2,3,4]\n",
    "b=max(a)\n",
    "print(b)"
   ]
  },
  {
   "cell_type": "code",
   "execution_count": 14,
   "id": "2ffb8c8a-3d28-4a09-aedf-263a09516705",
   "metadata": {},
   "outputs": [
    {
     "name": "stdout",
     "output_type": "stream",
     "text": [
      "[1, 2, 3, 4]\n"
     ]
    }
   ],
   "source": [
    "a=[1,1,2,2,3,3,4,4,2,2]\n",
    "unique=list(set(a))\n",
    "print(unique)"
   ]
  },
  {
   "cell_type": "code",
   "execution_count": 13,
   "id": "8b346a9f-b803-424d-8ba0-0b6519a8f8a7",
   "metadata": {},
   "outputs": [
    {
     "name": "stdout",
     "output_type": "stream",
     "text": [
      "[7, 6, 5, 3, 2, 1]\n"
     ]
    }
   ],
   "source": [
    "a=[1,2,3]\n",
    "b=[5,7,6]\n",
    "c=a+b\n",
    "c.sort(reverse=True)\n",
    "print(c)\n"
   ]
  },
  {
   "cell_type": "code",
   "execution_count": 17,
   "id": "c6072869-35c2-4210-b886-af6134b025a8",
   "metadata": {},
   "outputs": [
    {
     "data": {
      "text/plain": [
       "'beetrot'"
      ]
     },
     "execution_count": 17,
     "metadata": {},
     "output_type": "execute_result"
    }
   ],
   "source": [
    "a=['aapple','beetrot','carrot','kookk']\n",
    "a[1]"
   ]
  },
  {
   "cell_type": "markdown",
   "id": "90d5f63d-2e16-48ee-9ab8-4d383ae647e5",
   "metadata": {},
   "source": []
  },
  {
   "cell_type": "code",
   "execution_count": 18,
   "id": "4297093e-5c6e-4f2e-b860-6ab6e06a5af4",
   "metadata": {},
   "outputs": [
    {
     "name": "stdout",
     "output_type": "stream",
     "text": [
      "not found\n"
     ]
    }
   ],
   "source": [
    "a=[1,2,3,4,5]\n",
    "if 7 in a:\n",
    "    print('found')\n",
    "else:\n",
    "    print('not found')"
   ]
  },
  {
   "cell_type": "code",
   "execution_count": 21,
   "id": "5c132538-57da-4e48-93bd-f895810cb35b",
   "metadata": {},
   "outputs": [
    {
     "name": "stdout",
     "output_type": "stream",
     "text": [
      "['ana', 'kaduva', 'black', 'white']\n"
     ]
    }
   ],
   "source": [
    "a=['ana','kaduva']\n",
    "b=['black','white']\n",
    "print(a+b)"
   ]
  },
  {
   "cell_type": "code",
   "execution_count": 22,
   "id": "b291b450-6bb7-4f6a-8f09-5449cdf00aab",
   "metadata": {},
   "outputs": [
    {
     "data": {
      "text/plain": [
       "4"
      ]
     },
     "execution_count": 22,
     "metadata": {},
     "output_type": "execute_result"
    }
   ],
   "source": [
    "a=['bum','vam','cam','dam']\n",
    "len(a)"
   ]
  },
  {
   "cell_type": "code",
   "execution_count": 23,
   "id": "0c17ff03-49d3-4358-93c0-2268e44d8606",
   "metadata": {},
   "outputs": [
    {
     "data": {
      "text/plain": [
       "'physics'"
      ]
     },
     "execution_count": 23,
     "metadata": {},
     "output_type": "execute_result"
    }
   ],
   "source": [
    "a=['maths','physics']\n",
    "a[-1]"
   ]
  },
  {
   "cell_type": "code",
   "execution_count": 28,
   "id": "bfc61ca4-f422-4a1a-a1b4-539aad069dcd",
   "metadata": {},
   "outputs": [
    {
     "data": {
      "text/plain": [
       "'sks'"
      ]
     },
     "execution_count": 28,
     "metadata": {},
     "output_type": "execute_result"
    }
   ],
   "source": [
    "carbrands=('sks','kkd','ddd',)\n",
    "carbrands[0]"
   ]
  },
  {
   "cell_type": "code",
   "execution_count": 1,
   "id": "20272d8c-b3cd-47d5-896d-664834bb88db",
   "metadata": {},
   "outputs": [
    {
     "name": "stdout",
     "output_type": "stream",
     "text": [
      "1\n",
      "2\n",
      "3\n",
      "4\n",
      "5\n",
      "finished\n"
     ]
    }
   ],
   "source": [
    "i =1\n",
    "while i<=5:\n",
    "    print(i)\n",
    "    i=i+1\n",
    "print(\"finished\")    "
   ]
  },
  {
   "cell_type": "code",
   "execution_count": 3,
   "id": "56175017-d0f1-43d6-a9ca-1b6770ec4eff",
   "metadata": {},
   "outputs": [
    {
     "name": "stdout",
     "output_type": "stream",
     "text": [
      "10\n",
      "20\n",
      "30\n",
      "40\n"
     ]
    }
   ],
   "source": [
    "num =[10,20,30,40]\n",
    "i=0\n",
    "while i<len(num):\n",
    "    print(num[i])\n",
    "    i=i+1\n",
    "    "
   ]
  },
  {
   "cell_type": "code",
   "execution_count": 5,
   "id": "cd002d6b-02e2-4ee2-a7b8-1bae2bfe075c",
   "metadata": {},
   "outputs": [
    {
     "name": "stdout",
     "output_type": "stream",
     "text": [
      "30\n",
      "20\n",
      "10\n"
     ]
    }
   ],
   "source": [
    "num=[10,20,30]\n",
    "length=len(num)\n",
    "i=length-1\n",
    "while i>=0:\n",
    "    print(num[i])\n",
    "    i=i-1"
   ]
  },
  {
   "cell_type": "code",
   "execution_count": 1,
   "id": "15bd58de-66b1-4881-bc02-601a0bd55fab",
   "metadata": {},
   "outputs": [
    {
     "name": "stdout",
     "output_type": "stream",
     "text": [
      "[1, 2, 3, 4, 5, 6, 7, 8, 9, 10]\n"
     ]
    }
   ],
   "source": [
    "a=[]\n",
    "i=1\n",
    "while i<=10:\n",
    "    a.append(i)\n",
    "    i=i+1\n",
    "print(a)    "
   ]
  },
  {
   "cell_type": "code",
   "execution_count": 5,
   "id": "96250e83-91a8-4860-9c2a-94f3f393e96a",
   "metadata": {},
   "outputs": [
    {
     "name": "stdout",
     "output_type": "stream",
     "text": [
      "ttl sum = 15\n",
      "avrge = 3.0\n"
     ]
    }
   ],
   "source": [
    "a=[1,2,3,4,5]\n",
    "i=0\n",
    "sum=0\n",
    "while i <len(a):\n",
    "    sum=sum+a[i]\n",
    "    i=i+1\n",
    "print('ttl sum =',sum)\n",
    "average=sum/len(a)\n",
    "print ( 'avrge =',average)"
   ]
  },
  {
   "cell_type": "code",
   "execution_count": 6,
   "id": "f1200f08-65bc-4dc3-8620-44af52898ecd",
   "metadata": {},
   "outputs": [
    {
     "name": "stdout",
     "output_type": "stream",
     "text": [
      "0\n",
      "1\n",
      "2\n",
      "3\n",
      "4\n",
      "finishw\n"
     ]
    }
   ],
   "source": [
    "i=0\n",
    "while 1==1:\n",
    "    print(i)\n",
    "    i=i+1\n",
    "    if i>=5:\n",
    "        break\n",
    "        \n",
    "print('finishw')        \n",
    "    "
   ]
  },
  {
   "cell_type": "code",
   "execution_count": 7,
   "id": "9c30c254-6b70-48f4-a23d-5b4330c8be2f",
   "metadata": {},
   "outputs": [
    {
     "name": "stdout",
     "output_type": "stream",
     "text": [
      "1\n",
      "3\n",
      "5\n",
      "7\n",
      "9\n"
     ]
    }
   ],
   "source": [
    "n=1\n",
    "while n<=10:\n",
    "    if n%2==0:\n",
    "        n=n+1\n",
    "        continue\n",
    "    print(n)\n",
    "    n=n+1\n",
    "    "
   ]
  },
  {
   "cell_type": "code",
   "execution_count": 8,
   "id": "7eea5bcf-86bd-4f50-9d35-3adb270099c9",
   "metadata": {},
   "outputs": [
    {
     "name": "stdout",
     "output_type": "stream",
     "text": [
      "a a a \n",
      "a a a \n",
      "a a a \n"
     ]
    }
   ],
   "source": [
    "i=1\n",
    "while i<=3:\n",
    "    j=1\n",
    "    while j<=3:\n",
    "        print('a',end=' ')\n",
    "        j=j+1\n",
    "    print()\n",
    "    i=i+1\n"
   ]
  },
  {
   "cell_type": "code",
   "execution_count": 14,
   "id": "d8732c4a-1248-45be-b86b-f3cb2a01aa61",
   "metadata": {},
   "outputs": [
    {
     "name": "stdout",
     "output_type": "stream",
     "text": [
      "1\n",
      "2\n",
      "3\n",
      "4\n",
      "5\n"
     ]
    }
   ],
   "source": [
    "a=[1,2,3,4,5]\n",
    "for i in a:\n",
    "    print(i)"
   ]
  },
  {
   "cell_type": "code",
   "execution_count": 17,
   "id": "c794b8a7-0634-46bc-8ab0-ddc79d2b6e0a",
   "metadata": {},
   "outputs": [
    {
     "name": "stdout",
     "output_type": "stream",
     "text": [
      "name\n",
      "shape\n"
     ]
    }
   ],
   "source": [
    "s={'name':'ku','shape':'rr'}\n",
    "for i in s:\n",
    "    print(i)"
   ]
  },
  {
   "cell_type": "code",
   "execution_count": 18,
   "id": "2d90ecd1-8677-4f0b-81cb-1a0df8e2069f",
   "metadata": {},
   "outputs": [
    {
     "name": "stdout",
     "output_type": "stream",
     "text": [
      "ku\n",
      "rr\n"
     ]
    }
   ],
   "source": [
    "for i in s:\n",
    "    print(s[i])"
   ]
  },
  {
   "cell_type": "code",
   "execution_count": 19,
   "id": "34cec504-e8b8-4879-abcb-a389f3cc461a",
   "metadata": {},
   "outputs": [],
   "source": [
    "def greet(name):\n",
    "    print(f'hello,{name}!')\n",
    "    "
   ]
  },
  {
   "cell_type": "code",
   "execution_count": 20,
   "id": "d7a1187b-0ad2-4687-857c-560e83295d4b",
   "metadata": {},
   "outputs": [
    {
     "name": "stdout",
     "output_type": "stream",
     "text": [
      "hello,arathi!\n"
     ]
    }
   ],
   "source": [
    "greet('arathi')"
   ]
  },
  {
   "cell_type": "code",
   "execution_count": 21,
   "id": "85f7918a-5d67-4ffa-a4ac-de945e460748",
   "metadata": {},
   "outputs": [
    {
     "ename": "SyntaxError",
     "evalue": "expected ':' (829623576.py, line 1)",
     "output_type": "error",
     "traceback": [
      "\u001b[0;36m  Cell \u001b[0;32mIn[21], line 1\u001b[0;36m\u001b[0m\n\u001b[0;31m    def calculate (x,y)\u001b[0m\n\u001b[0m                       ^\u001b[0m\n\u001b[0;31mSyntaxError\u001b[0m\u001b[0;31m:\u001b[0m expected ':'\n"
     ]
    }
   ],
   "source": [
    "def calculate (x,y)\n",
    "return x+y,x-y\n"
   ]
  },
  {
   "cell_type": "code",
   "execution_count": 22,
   "id": "2547f5f8-1247-4801-a743-ac8b9e8428d2",
   "metadata": {},
   "outputs": [],
   "source": [
    "def calculator (a,b):\n",
    "    def add(a,b):\n",
    "        return a + b\n",
    "    def subtract(a,b):\n",
    "        return a-b\n",
    "    print('add',add(a,b))\n",
    "    print('sub',subtract(a,b))\n",
    "    "
   ]
  },
  {
   "cell_type": "code",
   "execution_count": 24,
   "id": "8f98e8e7-4220-44ec-9034-93d7c25f08fd",
   "metadata": {},
   "outputs": [
    {
     "name": "stdin",
     "output_type": "stream",
     "text": [
      "entr 2\n",
      "entr 3\n"
     ]
    },
    {
     "name": "stdout",
     "output_type": "stream",
     "text": [
      "add 5\n",
      "sub -1\n"
     ]
    }
   ],
   "source": [
    "a=int(input('entr'))\n",
    "b=int(input('entr'))\n",
    "calculator(a,b)"
   ]
  },
  {
   "cell_type": "code",
   "execution_count": null,
   "id": "f0c6b5f5-a068-4d07-bfcf-670027461dd1",
   "metadata": {},
   "outputs": [],
   "source": []
  }
 ],
 "metadata": {
  "kernelspec": {
   "display_name": "Python [conda env:base] *",
   "language": "python",
   "name": "conda-base-py"
  },
  "language_info": {
   "codemirror_mode": {
    "name": "ipython",
    "version": 3
   },
   "file_extension": ".py",
   "mimetype": "text/x-python",
   "name": "python",
   "nbconvert_exporter": "python",
   "pygments_lexer": "ipython3",
   "version": "3.13.5"
  }
 },
 "nbformat": 4,
 "nbformat_minor": 5
}
